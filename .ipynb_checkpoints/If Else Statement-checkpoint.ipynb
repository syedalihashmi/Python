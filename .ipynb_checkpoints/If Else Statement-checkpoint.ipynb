{
 "cells": [
  {
   "cell_type": "code",
   "execution_count": 1,
   "metadata": {},
   "outputs": [
    {
     "name": "stdout",
     "output_type": "stream",
     "text": [
      "hello world\n",
      "my name is ali\n",
      "hello python\n"
     ]
    }
   ],
   "source": [
    "a = 100\n",
    "b = 200\n",
    "if a < b:\n",
    "    print(\"hello world\")\n",
    "    print(\"my name is ali\")\n",
    "print (\"hello python\")     "
   ]
  },
  {
   "cell_type": "code",
   "execution_count": 2,
   "metadata": {},
   "outputs": [
    {
     "name": "stdout",
     "output_type": "stream",
     "text": [
      "hello python\n"
     ]
    }
   ],
   "source": [
    "a = 100\n",
    "b = 200\n",
    "if a > b:\n",
    "    print(\"hello world\")\n",
    "    print(\"my name is ali\")\n",
    "print (\"hello python\") \n"
   ]
  },
  {
   "cell_type": "code",
   "execution_count": 5,
   "metadata": {},
   "outputs": [
    {
     "name": "stdout",
     "output_type": "stream",
     "text": [
      "hello world\n",
      "my name is ali\n",
      "hello python\n"
     ]
    }
   ],
   "source": [
    "a = 100\n",
    "b = 100\n",
    "if a == b:\n",
    "    print(\"hello world\")\n",
    "    print(\"my name is ali\")\n",
    "print (\"hello python\")     "
   ]
  },
  {
   "cell_type": "code",
   "execution_count": 7,
   "metadata": {},
   "outputs": [
    {
     "name": "stdout",
     "output_type": "stream",
     "text": [
      "hello python\n"
     ]
    }
   ],
   "source": [
    "a = 100\n",
    "b = 100\n",
    "if False:\n",
    "    print(\"hello world\")\n",
    "    print(\"my name is ali\")\n",
    "print (\"hello python\")     "
   ]
  },
  {
   "cell_type": "code",
   "execution_count": 12,
   "metadata": {},
   "outputs": [
    {
     "name": "stdout",
     "output_type": "stream",
     "text": [
      "hello world\n",
      "my name is ali\n",
      "hello python\n"
     ]
    }
   ],
   "source": [
    "a = 100\n",
    "b = 100\n",
    "if True:\n",
    "    print(\"hello world\")\n",
    "    print(\"my name is ali\")\n",
    "print (\"hello python\") "
   ]
  },
  {
   "cell_type": "code",
   "execution_count": 18,
   "metadata": {},
   "outputs": [
    {
     "name": "stdout",
     "output_type": "stream",
     "text": [
      "hello python\n"
     ]
    }
   ],
   "source": [
    "a = 100\n",
    "b = 100\n",
    "if 0:\n",
    "    print(\"hello world\")\n",
    "    print(\"my name is ali\")\n",
    "print (\"hello python\")     "
   ]
  },
  {
   "cell_type": "code",
   "execution_count": 19,
   "metadata": {},
   "outputs": [
    {
     "name": "stdout",
     "output_type": "stream",
     "text": [
      "hello world\n",
      "my name is ali\n",
      "hello python\n"
     ]
    }
   ],
   "source": [
    "a = 100\n",
    "b = 100\n",
    "if 1:\n",
    "    print(\"hello world\")\n",
    "    print(\"my name is ali\")\n",
    "print (\"hello python\")     "
   ]
  },
  {
   "cell_type": "code",
   "execution_count": 20,
   "metadata": {},
   "outputs": [
    {
     "name": "stdout",
     "output_type": "stream",
     "text": [
      "hello python\n"
     ]
    }
   ],
   "source": [
    "a = 100\n",
    "b = 100\n",
    "if a != b:\n",
    "    print(\"hello world\")\n",
    "    print(\"my name is ali\")\n",
    "print (\"hello python\")     "
   ]
  }
 ],
 "metadata": {
  "kernelspec": {
   "display_name": "Python 3",
   "language": "python",
   "name": "python3"
  },
  "language_info": {
   "codemirror_mode": {
    "name": "ipython",
    "version": 3
   },
   "file_extension": ".py",
   "mimetype": "text/x-python",
   "name": "python",
   "nbconvert_exporter": "python",
   "pygments_lexer": "ipython3",
   "version": "3.7.6"
  }
 },
 "nbformat": 4,
 "nbformat_minor": 4
}
