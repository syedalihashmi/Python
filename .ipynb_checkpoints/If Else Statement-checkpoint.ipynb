{
 "cells": [
  {
   "cell_type": "code",
   "execution_count": 3,
   "metadata": {},
   "outputs": [
    {
     "name": "stdout",
     "output_type": "stream",
     "text": [
      "hello world\n",
      "my name is ali\n",
      "hello python\n"
     ]
    }
   ],
   "source": [
    "a = 100\n",
    "b = 200\n",
    "if a < b:\n",
    "    print(\"hello world\")\n",
    "    print(\"my name is ali\")\n",
    "    print (\"hello python\")     "
   ]
  },
  {
   "cell_type": "code",
   "execution_count": 2,
   "metadata": {},
   "outputs": [
    {
     "name": "stdout",
     "output_type": "stream",
     "text": [
      "hello python\n"
     ]
    }
   ],
   "source": [
    "a = 100\n",
    "b = 200\n",
    "if a > b:\n",
    "    print(\"hello world\")\n",
    "    print(\"my name is ali\")\n",
    "print (\"hello python\") \n"
   ]
  },
  {
   "cell_type": "code",
   "execution_count": 5,
   "metadata": {},
   "outputs": [
    {
     "name": "stdout",
     "output_type": "stream",
     "text": [
      "hello world\n",
      "my name is ali\n",
      "hello python\n"
     ]
    }
   ],
   "source": [
    "a = 100\n",
    "b = 100\n",
    "if a == b:\n",
    "    print(\"hello world\")\n",
    "    print(\"my name is ali\")\n",
    "print (\"hello python\")     "
   ]
  },
  {
   "cell_type": "code",
   "execution_count": 7,
   "metadata": {},
   "outputs": [
    {
     "name": "stdout",
     "output_type": "stream",
     "text": [
      "hello python\n"
     ]
    }
   ],
   "source": [
    "a = 100\n",
    "b = 100\n",
    "if False:\n",
    "    print(\"hello world\")\n",
    "    print(\"my name is ali\")\n",
    "print (\"hello python\")     "
   ]
  },
  {
   "cell_type": "code",
   "execution_count": 12,
   "metadata": {},
   "outputs": [
    {
     "name": "stdout",
     "output_type": "stream",
     "text": [
      "hello world\n",
      "my name is ali\n",
      "hello python\n"
     ]
    }
   ],
   "source": [
    "a = 100\n",
    "b = 100\n",
    "if True:\n",
    "    print(\"hello world\")\n",
    "    print(\"my name is ali\")\n",
    "print (\"hello python\") "
   ]
  },
  {
   "cell_type": "code",
   "execution_count": 18,
   "metadata": {},
   "outputs": [
    {
     "name": "stdout",
     "output_type": "stream",
     "text": [
      "hello python\n"
     ]
    }
   ],
   "source": [
    "a = 100\n",
    "b = 100\n",
    "if 0:\n",
    "    print(\"hello world\")\n",
    "    print(\"my name is ali\")\n",
    "print (\"hello python\")     "
   ]
  },
  {
   "cell_type": "code",
   "execution_count": 19,
   "metadata": {},
   "outputs": [
    {
     "name": "stdout",
     "output_type": "stream",
     "text": [
      "hello world\n",
      "my name is ali\n",
      "hello python\n"
     ]
    }
   ],
   "source": [
    "a = 100\n",
    "b = 100\n",
    "if 1:\n",
    "    print(\"hello world\")\n",
    "    print(\"my name is ali\")\n",
    "print (\"hello python\")     "
   ]
  },
  {
   "cell_type": "code",
   "execution_count": 42,
   "metadata": {},
   "outputs": [
    {
     "name": "stdout",
     "output_type": "stream",
     "text": [
      "hello python\n"
     ]
    }
   ],
   "source": [
    "a = 100\n",
    "b = 100\n",
    "if a != b:\n",
    "    print(\"hello world\")\n",
    "    print(\"my name is ali\")\n",
    "print (\"hello python\")     "
   ]
  },
  {
   "cell_type": "code",
   "execution_count": 32,
   "metadata": {},
   "outputs": [
    {
     "name": "stdout",
     "output_type": "stream",
     "text": [
      "b and c are equal\n"
     ]
    }
   ],
   "source": [
    "a = \"abc\"\n",
    "b = 5\n",
    "c = 5\n",
    "d = 1\n",
    "if (b == c):\n",
    "    print(\"b and c are equal\")\n",
    "elif (b==a):\n",
    "    print(\"b and a are equal\")\n",
    "else:\n",
    "    print(\"b and a are not equal\")"
   ]
  },
  {
   "cell_type": "code",
   "execution_count": 23,
   "metadata": {},
   "outputs": [
    {
     "name": "stdout",
     "output_type": "stream",
     "text": [
      "1\n",
      "2\n",
      "3\n",
      "4\n",
      "5\n"
     ]
    }
   ],
   "source": [
    "x= [1,2,3,4,5,6,7,8,9,10]\n",
    "for a in x:\n",
    "    print(a)\n",
    "    if a == 5:\n",
    "        break\n"
   ]
  },
  {
   "cell_type": "code",
   "execution_count": 25,
   "metadata": {},
   "outputs": [
    {
     "name": "stdout",
     "output_type": "stream",
     "text": [
      "1\n",
      "hello\n",
      "2\n",
      "hello\n",
      "3\n",
      "hello\n",
      "4\n",
      "hello\n",
      "5\n",
      "6\n",
      "hello\n",
      "7\n",
      "hello\n",
      "8\n",
      "hello\n",
      "9\n",
      "hello\n",
      "10\n",
      "hello\n"
     ]
    }
   ],
   "source": [
    "for a in x:\n",
    "    print(a)\n",
    "    if a==5:\n",
    "        continue\n",
    "    print(\"hello\")\n",
    "        "
   ]
  },
  {
   "cell_type": "code",
   "execution_count": 30,
   "metadata": {},
   "outputs": [],
   "source": [
    "for a in x:\n",
    "    pass"
   ]
  },
  {
   "cell_type": "code",
   "execution_count": 35,
   "metadata": {},
   "outputs": [
    {
     "name": "stdout",
     "output_type": "stream",
     "text": [
      "Below 2\n"
     ]
    }
   ],
   "source": [
    "x = \n",
    "if x < 2 :\n",
    "    print('Below 2')\n",
    "elif x >= 2 :\n",
    "     print('Two or more')\n",
    "else :\n",
    "    print('Something else')"
   ]
  },
  {
   "cell_type": "markdown",
   "metadata": {},
   "source": [
    "# assignment"
   ]
  },
  {
   "cell_type": "code",
   "execution_count": 37,
   "metadata": {},
   "outputs": [
    {
     "name": "stdout",
     "output_type": "stream",
     "text": [
      "Enter Hours:45\n",
      "enter rate:10.5\n",
      "498.75\n"
     ]
    }
   ],
   "source": [
    "hrs = input(\"Enter Hours:\")\n",
    "h = float(hrs)\n",
    "rate = input(\"enter rate:\")\n",
    "r = float(rate)\n",
    "if h<=40:\n",
    "    pay=h*r\n",
    "else:\n",
    "    pay = 40*r \n",
    "    pay +=(h-40)*r*1.5\n",
    "print(pay)    \n"
   ]
  },
  {
   "cell_type": "code",
   "execution_count": null,
   "metadata": {},
   "outputs": [],
   "source": [
    "score = input(\"Enter Score: \")\n",
    "score = float(score)\n",
    "if score>1.0:\n",
    "    print(\"error:out of range\")\n",
    "elif score>=0.9:\n",
    "    print(\"A\")\n",
    "elif score>=0.8:\n",
    "    print(\"B\")\n",
    "elif score>=0.7:\n",
    "    print(\"C\")\n",
    "elif score>=0.6:\n",
    "    print(\"D\")\n",
    "elif score<0.6:\n",
    "    print(\"F\")\n",
    "\n"
   ]
  }
 ],
 "metadata": {
  "kernelspec": {
   "display_name": "Python 3",
   "language": "python",
   "name": "python3"
  },
  "language_info": {
   "codemirror_mode": {
    "name": "ipython",
    "version": 3
   },
   "file_extension": ".py",
   "mimetype": "text/x-python",
   "name": "python",
   "nbconvert_exporter": "python",
   "pygments_lexer": "ipython3",
   "version": "3.7.6"
  }
 },
 "nbformat": 4,
 "nbformat_minor": 4
}
