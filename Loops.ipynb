{
 "cells": [
  {
   "cell_type": "markdown",
   "metadata": {},
   "source": [
    "# WHILE LOOPS"
   ]
  },
  {
   "cell_type": "code",
   "execution_count": 1,
   "metadata": {},
   "outputs": [
    {
     "name": "stdout",
     "output_type": "stream",
     "text": [
      "0 this is a while loop\n",
      "1 this is a while loop\n",
      "2 this is a while loop\n",
      "3 this is a while loop\n",
      "4 this is a while loop\n",
      "5 this is a while loop\n",
      "6 this is a while loop\n",
      "7 this is a while loop\n",
      "8 this is a while loop\n",
      "9 this is a while loop\n"
     ]
    }
   ],
   "source": [
    "a=0\n",
    "while a<10:\n",
    "    print(a,\"this is a while loop\")\n",
    "    a+=1\n",
    "    "
   ]
  },
  {
   "cell_type": "code",
   "execution_count": 5,
   "metadata": {},
   "outputs": [
    {
     "name": "stdout",
     "output_type": "stream",
     "text": [
      "enter your favourite foods:Pizza\n",
      "enter your favourite foods:Buger\n",
      "enter your favourite foods:Chips\n",
      "enter your favourite foods:Tikka\n",
      "enter your favourite foods:Biryani\n"
     ]
    }
   ],
   "source": [
    "a=0\n",
    "while a<5:\n",
    "    userinput=input  (\"enter your favourite foods:\") \n",
    "    a+=1"
   ]
  },
  {
   "cell_type": "markdown",
   "metadata": {},
   "source": [
    "# SETTING A FLAG"
   ]
  },
  {
   "cell_type": "code",
   "execution_count": 4,
   "metadata": {},
   "outputs": [
    {
     "name": "stdout",
     "output_type": "stream",
     "text": [
      "enter your fav food: Pizza\n",
      "enter your fav food: Burger\n",
      "enter your fav food: Q\n"
     ]
    },
    {
     "data": {
      "text/plain": [
       "['Pizza', 'Burger']"
      ]
     },
     "execution_count": 4,
     "metadata": {},
     "output_type": "execute_result"
    }
   ],
   "source": [
    "flag=True \n",
    "favfood=[]\n",
    "while flag:\n",
    "    userinputs=input(\"enter your fav food: \")\n",
    "    if userinputs==\"Q\":\n",
    "        flag=False\n",
    "    else:\n",
    "        favfood.append(userinputs)\n",
    "favfood"
   ]
  },
  {
   "cell_type": "code",
   "execution_count": null,
   "metadata": {},
   "outputs": [],
   "source": []
  }
 ],
 "metadata": {
  "kernelspec": {
   "display_name": "Python 3",
   "language": "python",
   "name": "python3"
  },
  "language_info": {
   "codemirror_mode": {
    "name": "ipython",
    "version": 3
   },
   "file_extension": ".py",
   "mimetype": "text/x-python",
   "name": "python",
   "nbconvert_exporter": "python",
   "pygments_lexer": "ipython3",
   "version": "3.7.6"
  }
 },
 "nbformat": 4,
 "nbformat_minor": 4
}
