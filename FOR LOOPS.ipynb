{
 "cells": [
  {
   "cell_type": "markdown",
   "metadata": {},
   "source": [
    "# FOR LOOP"
   ]
  },
  {
   "cell_type": "code",
   "execution_count": 1,
   "metadata": {},
   "outputs": [
    {
     "name": "stdout",
     "output_type": "stream",
     "text": [
      "0 Syed Ali Hashmi\n",
      "1 Syed Ali Hashmi\n",
      "2 Syed Ali Hashmi\n",
      "3 Syed Ali Hashmi\n",
      "4 Syed Ali Hashmi\n",
      "5 Syed Ali Hashmi\n",
      "6 Syed Ali Hashmi\n",
      "7 Syed Ali Hashmi\n",
      "8 Syed Ali Hashmi\n",
      "9 Syed Ali Hashmi\n"
     ]
    }
   ],
   "source": [
    "for a in range(10):\n",
    "    print(a,\"Syed Ali Hashmi\")"
   ]
  },
  {
   "cell_type": "code",
   "execution_count": 6,
   "metadata": {},
   "outputs": [
    {
     "name": "stdout",
     "output_type": "stream",
     "text": [
      "0\n",
      "1\n",
      "2\n",
      "3\n",
      "4\n",
      "5\n",
      "6\n",
      "7\n",
      "8\n",
      "9\n"
     ]
    }
   ],
   "source": [
    "for number in range(10):\n",
    "    print (number)"
   ]
  },
  {
   "cell_type": "code",
   "execution_count": 10,
   "metadata": {},
   "outputs": [
    {
     "name": "stdout",
     "output_type": "stream",
     "text": [
      "1\n",
      "3\n",
      "5\n",
      "7\n",
      "9\n"
     ]
    }
   ],
   "source": [
    "for number in range(1,10,2): #steping\n",
    "    print (number)"
   ]
  },
  {
   "cell_type": "code",
   "execution_count": 11,
   "metadata": {},
   "outputs": [
    {
     "name": "stdout",
     "output_type": "stream",
     "text": [
      "10\n",
      "8\n",
      "6\n",
      "4\n",
      "2\n"
     ]
    }
   ],
   "source": [
    "for number in range(10,1,-2):\n",
    "    print (number)"
   ]
  },
  {
   "cell_type": "code",
   "execution_count": 12,
   "metadata": {},
   "outputs": [
    {
     "name": "stdout",
     "output_type": "stream",
     "text": [
      "P\n",
      "a\n",
      "k\n",
      "i\n",
      "s\n",
      "t\n",
      "a\n",
      "n\n"
     ]
    }
   ],
   "source": [
    "country = \"Pakistan\"\n",
    "for char in country:\n",
    "    print(char)"
   ]
  },
  {
   "cell_type": "code",
   "execution_count": 33,
   "metadata": {},
   "outputs": [
    {
     "name": "stdout",
     "output_type": "stream",
     "text": [
      "1\n"
     ]
    }
   ],
   "source": [
    "for number in range(10):\n",
    "    if number%3==1:\n",
    "        break\n",
    "print (number)\n",
    "    "
   ]
  },
  {
   "cell_type": "code",
   "execution_count": 44,
   "metadata": {},
   "outputs": [
    {
     "name": "stdout",
     "output_type": "stream",
     "text": [
      "0\n",
      "1\n",
      "2\n",
      "3\n",
      "5\n",
      "6\n",
      "8\n",
      "9\n"
     ]
    }
   ],
   "source": [
    "for num in range(10):\n",
    "    if num==7or num==4:\n",
    "        continue\n",
    "    print (num)"
   ]
  },
  {
   "cell_type": "markdown",
   "metadata": {},
   "source": [
    "# NESTED FOR LOOP"
   ]
  },
  {
   "cell_type": "code",
   "execution_count": 45,
   "metadata": {
    "scrolled": true
   },
   "outputs": [
    {
     "name": "stdout",
     "output_type": "stream",
     "text": [
      "inner loop begins\n",
      "0 p\n",
      "0 a\n",
      "0 k\n",
      "0 i\n",
      "0 s\n",
      "0 t\n",
      "0 a\n",
      "0 n\n",
      "inner loop begins\n",
      "1 p\n",
      "1 a\n",
      "1 k\n",
      "1 i\n",
      "1 s\n",
      "1 t\n",
      "1 a\n",
      "1 n\n",
      "inner loop begins\n",
      "2 p\n",
      "2 a\n",
      "2 k\n",
      "2 i\n",
      "2 s\n",
      "2 t\n",
      "2 a\n",
      "2 n\n",
      "inner loop begins\n",
      "3 p\n",
      "3 a\n",
      "3 k\n",
      "3 i\n",
      "3 s\n",
      "3 t\n",
      "3 a\n",
      "3 n\n",
      "inner loop begins\n",
      "4 p\n",
      "4 a\n",
      "4 k\n",
      "4 i\n",
      "4 s\n",
      "4 t\n",
      "4 a\n",
      "4 n\n"
     ]
    }
   ],
   "source": [
    "for a in range(5):\n",
    "    print(\"inner loop begins\")\n",
    "    for char in \"pakistan\":\n",
    "        print(a,char)"
   ]
  },
  {
   "cell_type": "code",
   "execution_count": 1,
   "metadata": {},
   "outputs": [
    {
     "name": "stdout",
     "output_type": "stream",
     "text": [
      "enter your table number4\n",
      "4 * 1 = 4\n",
      "4 * 2 = 8\n",
      "4 * 3 = 12\n",
      "4 * 4 = 16\n",
      "4 * 5 = 20\n",
      "4 * 6 = 24\n",
      "4 * 7 = 28\n",
      "4 * 8 = 32\n",
      "4 * 9 = 36\n",
      "4 * 10 = 40\n"
     ]
    }
   ],
   "source": [
    "tablenumber=int(input(\"enter your table number\"))\n",
    "for a in range(1,11):\n",
    "    print(f\"{tablenumber} * {a} = {tablenumber*a}\")"
   ]
  },
  {
   "cell_type": "code",
   "execution_count": 3,
   "metadata": {},
   "outputs": [
    {
     "name": "stdout",
     "output_type": "stream",
     "text": [
      "ente table5\n",
      "2  * 1 = 2\n",
      "2  * 2 = 4\n",
      "2  * 3 = 6\n",
      "2  * 4 = 8\n",
      "2  * 5 = 10\n",
      "2  * 6 = 12\n",
      "2  * 7 = 14\n",
      "2  * 8 = 16\n",
      "2  * 9 = 18\n",
      "2  * 10 = 20\n",
      "3  * 1 = 3\n",
      "3  * 2 = 6\n",
      "3  * 3 = 9\n",
      "3  * 4 = 12\n",
      "3  * 5 = 15\n",
      "3  * 6 = 18\n",
      "3  * 7 = 21\n",
      "3  * 8 = 24\n",
      "3  * 9 = 27\n",
      "3  * 10 = 30\n",
      "4  * 1 = 4\n",
      "4  * 2 = 8\n",
      "4  * 3 = 12\n",
      "4  * 4 = 16\n",
      "4  * 5 = 20\n",
      "4  * 6 = 24\n",
      "4  * 7 = 28\n",
      "4  * 8 = 32\n",
      "4  * 9 = 36\n",
      "4  * 10 = 40\n",
      "5  * 1 = 5\n",
      "5  * 2 = 10\n",
      "5  * 3 = 15\n",
      "5  * 4 = 20\n",
      "5  * 5 = 25\n",
      "5  * 6 = 30\n",
      "5  * 7 = 35\n",
      "5  * 8 = 40\n",
      "5  * 9 = 45\n",
      "5  * 10 = 50\n"
     ]
    }
   ],
   "source": [
    "tables=int(input(\"ente table\" ))\n",
    "for table in range (2,tables+1):\n",
    "    for num in range(1,11):\n",
    "        print(f\"{table}  * {num} = {table*num}\")"
   ]
  },
  {
   "cell_type": "code",
   "execution_count": null,
   "metadata": {},
   "outputs": [],
   "source": []
  },
  {
   "cell_type": "code",
   "execution_count": null,
   "metadata": {},
   "outputs": [],
   "source": []
  }
 ],
 "metadata": {
  "kernelspec": {
   "display_name": "Python 3",
   "language": "python",
   "name": "python3"
  },
  "language_info": {
   "codemirror_mode": {
    "name": "ipython",
    "version": 3
   },
   "file_extension": ".py",
   "mimetype": "text/x-python",
   "name": "python",
   "nbconvert_exporter": "python",
   "pygments_lexer": "ipython3",
   "version": "3.7.6"
  }
 },
 "nbformat": 4,
 "nbformat_minor": 4
}
